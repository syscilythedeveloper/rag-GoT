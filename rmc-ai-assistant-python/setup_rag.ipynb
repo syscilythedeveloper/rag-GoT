{
 "cells": [
  {
   "cell_type": "code",
   "execution_count": 7,
   "metadata": {},
   "outputs": [],
   "source": [
    "from dotenv import load_dotenv\n",
    "load_dotenv()\n",
    "from pinecone import Pinecone, ServerlessSpec\n",
    "from openai import OpenAI\n",
    "import os \n",
    "import json"
   ]
  },
  {
   "cell_type": "code",
   "execution_count": 8,
   "metadata": {},
   "outputs": [
    {
     "name": "stdout",
     "output_type": "stream",
     "text": [
      "The API key being processed is: a06b46ea-cd0b-4e83-ae61-e804a754e141\n"
     ]
    }
   ],
   "source": [
    "#initialize pinecone \n",
    "api_key = os.getenv(\"PINECONE_API_KEY\")\n",
    "\n",
    "# Print the API key\n",
    "print(f\"The API key being processed is: {api_key}\")\n",
    "\n",
    "# Continue with the Pinecone initialization\n",
    "pc = Pinecone(api_key=api_key)\n",
    "#pc = Pinecone(api_key=os.getenv(\"PINECONE_API_KEY\"))"
   ]
  },
  {
   "cell_type": "code",
   "execution_count": 9,
   "metadata": {},
   "outputs": [],
   "source": [
    "pc.create_index(\n",
    "    name=\"rag-game-of-thrones\",\n",
    "    dimension=1536,\n",
    "    metric=\"cosine\",\n",
    "    spec=ServerlessSpec(cloud=\"aws\", region=\"us-east-1\"),\n",
    ")"
   ]
  },
  {
   "cell_type": "code",
   "execution_count": 10,
   "metadata": {},
   "outputs": [
    {
     "name": "stdout",
     "output_type": "stream",
     "text": [
      "{'reviews': [{'character': 'Jon Snow', 'house': 'Stark', 'survival_skills': 5, 'review': 'Jon Snow excels in survival skills. His leadership and combat abilities in the harshest conditions make him one of the best.', 'cause_of_death': \"Resurrected after being betrayed and killed by the Night's Watch.\"}, {'character': 'Arya Stark', 'house': 'Stark', 'survival_skills': 5, 'review': 'Arya Stark is highly skilled in survival, blending stealth and combat prowess to overcome numerous challenges.', 'cause_of_death': 'Alive'}, {'character': 'Tyrion Lannister', 'house': 'Lannister', 'survival_skills': 4, 'review': 'Tyrion is resourceful and intelligent, using his wit and strategic thinking to navigate dangerous situations effectively.', 'cause_of_death': 'Alive'}, {'character': 'Daenerys Targaryen', 'house': 'Targaryen', 'survival_skills': 4, 'review': 'Daenerys demonstrates strong survival skills through her resilience and ability to lead, though her survival often depends on her dragons.', 'cause_of_death': 'Killed by Jon Snow'}, {'character': 'Sandor Clegane (The Hound)', 'house': 'Clegane', 'survival_skills': 4, 'review': 'The Hound is a formidable fighter with excellent survival instincts, although his rough demeanor can be a disadvantage at times.', 'cause_of_death': 'Killed in a fight against his brother, Gregor Clegane.'}, {'character': 'Sansa Stark', 'house': 'Stark', 'survival_skills': 3, 'review': 'Sansa has developed impressive survival skills through her experiences, but her survival is often influenced by the support of others.', 'cause_of_death': 'Alive'}, {'character': 'Brienne of Tarth', 'house': 'Tarth', 'survival_skills': 5, 'review': \"Brienne's combat skills and dedication to her cause make her one of the most capable survivors in the series.\", 'cause_of_death': 'Alive'}, {'character': 'Jamie Lannister', 'house': 'Lannister', 'survival_skills': 4, 'review': 'Jamie Lannister is a skilled fighter with strong survival skills, though his journey often involves complex personal conflicts.', 'cause_of_death': 'Killed in the collapse of the Red Keep with Cersei Lannister.'}, {'character': 'Euron Greyjoy', 'house': 'Greyjoy', 'survival_skills': 3, 'review': 'Euron is a ruthless and cunning character with good survival skills, but his unpredictability can sometimes be a liability.', 'cause_of_death': 'Killed by Jamie Lannister.'}, {'character': 'Jorah Mormont', 'house': 'Mormont', 'survival_skills': 4, 'review': 'Jorah is experienced and loyal, showing strong survival skills, though his past mistakes occasionally catch up with him.', 'cause_of_death': 'Killed protecting Daenerys during the Battle of Winterfell.'}, {'character': 'Melisandre', 'house': 'None', 'survival_skills': 3, 'review': 'Melisandre relies on her magical abilities for survival, which can be both a strength and a vulnerability depending on the situation.', 'cause_of_death': 'Collapsed and died after the Battle of Winterfell.'}, {'character': 'Petyr Baelish (Littlefinger)', 'house': 'Baelish', 'survival_skills': 4, 'review': 'Littlefinger is adept at manipulation and political survival, though his skills are less suited to direct physical survival.', 'cause_of_death': 'Executed by Arya Stark.'}, {'character': 'Gendry', 'house': 'Baratheon (by birth)', 'survival_skills': 3, 'review': 'Gendry shows basic survival skills with his background as a blacksmith, but his experience is limited compared to other characters.', 'cause_of_death': 'Alive'}, {'character': 'The Night King', 'house': 'None', 'survival_skills': 5, 'review': 'The Night King demonstrates unparalleled survival skills through his ability to command the undead and his resilience against attacks.', 'cause_of_death': 'Killed by Arya Stark.'}, {'character': 'Podrick Payne', 'house': 'Payne', 'survival_skills': 3, 'review': \"Podrick shows potential with his growing combat skills, but he's still learning and often relies on the protection of others.\", 'cause_of_death': 'Alive'}, {'character': 'Yara Greyjoy', 'house': 'Greyjoy', 'survival_skills': 4, 'review': 'Yara is a strong leader and fighter, showing excellent survival skills in both naval and land-based battles.', 'cause_of_death': 'Alive'}, {'character': 'Bronn', 'house': 'None', 'survival_skills': 4, 'review': 'Bronn is a highly capable fighter and survivalist, using his skills and pragmatism to navigate dangerous situations effectively.', 'cause_of_death': 'Alive'}, {'character': 'Tormund Giantsbane', 'house': 'Free Folk', 'survival_skills': 5, 'review': \"Tormund's survival skills are honed by the harsh conditions beyond the Wall, making him a formidable survivor in any situation.\", 'cause_of_death': 'Alive'}, {'character': 'Khal Drogo', 'house': 'Dothraki', 'survival_skills': 5, 'review': 'Khal Drogo is a fierce warrior with incredible survival skills, leading the Dothraki horde with unmatched combat prowess.', 'cause_of_death': 'Killed by infection and mercy killing by Daenerys Targaryen.'}, {'character': 'Qhono', 'house': 'Dothraki', 'survival_skills': 4, 'review': 'Qhono is a strong and capable Dothraki warrior, showing excellent survival skills in battle.', 'cause_of_death': 'Killed by the wights during the Battle of Winterfell.'}, {'character': 'Cersei Lannister', 'house': 'Lannister', 'survival_skills': 4, 'review': 'Cersei is highly skilled in political survival, using manipulation and ruthlessness to maintain power, though her arrogance can be her downfall.', 'cause_of_death': 'Killed in the collapse of the Red Keep with Jamie Lannister.'}, {'character': 'Robert Baratheon', 'house': 'Baratheon', 'survival_skills': 3, 'review': 'Robert was a powerful warrior in his youth, but his lack of focus and indulgence led to a decline in his survival skills as a king.', 'cause_of_death': 'Killed by a boar during a hunt, after being weakened by wine.'}, {'character': 'Ned Stark', 'house': 'Stark', 'survival_skills': 3, 'review': 'Ned Stark was honorable and skilled in battle, but his rigid sense of honor often placed him at a disadvantage in the dangerous political landscape.', 'cause_of_death': 'Executed by Joffrey Baratheon.'}]}\n"
     ]
    }
   ],
   "source": [
    "data = json.load(open(\"reviews.json\"))\n",
    "print(data)"
   ]
  },
  {
   "cell_type": "code",
   "execution_count": 11,
   "metadata": {},
   "outputs": [],
   "source": [
    "processed_data = []\n",
    "client=OpenAI()"
   ]
  },
  {
   "cell_type": "code",
   "execution_count": null,
   "metadata": {},
   "outputs": [],
   "source": [
    "#create embeddings for each review\n",
    "for character_review in data[\"reviews\"]:\n",
    "    response = client.embeddings.create(\n",
    "        input=character_review[\"review\"], model=\"text-embedding-3-small\"\n",
    "    )\n",
    "    embedding = response.data[0].embedding\n",
    "    processed_data.append({\n",
    "        \"values\": embedding,\n",
    "        \"id\": character_review[\"character\"],\n",
    "        \"metadata\":{\n",
    "            \"house\": character_review[\"house\"],\n",
    "            \"survival_skills\": character_review[\"survival_skills\"],\n",
    "            \"review\": character_review[\"review\"],\n",
    "            \"cause_of_death\": character_review[\"cause_of_death\"],\n",
    "        }\n",
    "    })\n",
    "print(processed_data)"
   ]
  }
 ],
 "metadata": {
  "kernelspec": {
   "display_name": "rag",
   "language": "python",
   "name": "python3"
  },
  "language_info": {
   "codemirror_mode": {
    "name": "ipython",
    "version": 3
   },
   "file_extension": ".py",
   "mimetype": "text/x-python",
   "name": "python",
   "nbconvert_exporter": "python",
   "pygments_lexer": "ipython3",
   "version": "3.10.14"
  }
 },
 "nbformat": 4,
 "nbformat_minor": 2
}
